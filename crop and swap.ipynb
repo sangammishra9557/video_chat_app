{
 "cells": [
  {
   "cell_type": "markdown",
   "id": "d887d4a0",
   "metadata": {},
   "source": [
    "TASK 3.1\n",
    "CROP AND SWAP THE IMAGES\n"
   ]
  },
  {
   "cell_type": "code",
   "execution_count": 1,
   "id": "732e3b0b",
   "metadata": {},
   "outputs": [],
   "source": [
    "import  cv2"
   ]
  },
  {
   "cell_type": "code",
   "execution_count": 2,
   "id": "b4e9be3d",
   "metadata": {},
   "outputs": [],
   "source": [
    "ritik = cv2.imread(\"220px-Hrithik_at_Rado_launch.jfif\")"
   ]
  },
  {
   "cell_type": "code",
   "execution_count": 3,
   "id": "a061dd8d",
   "metadata": {},
   "outputs": [],
   "source": [
    "tiger= cv2.imread(\"download.jfif\")"
   ]
  },
  {
   "cell_type": "code",
   "execution_count": 4,
   "id": "ba375213",
   "metadata": {},
   "outputs": [
    {
     "data": {
      "text/plain": [
       "(309, 220, 3)"
      ]
     },
     "execution_count": 4,
     "metadata": {},
     "output_type": "execute_result"
    }
   ],
   "source": [
    "ritik.shape"
   ]
  },
  {
   "cell_type": "code",
   "execution_count": 5,
   "id": "8de80661",
   "metadata": {},
   "outputs": [
    {
     "data": {
      "text/plain": [
       "(284, 177, 3)"
      ]
     },
     "execution_count": 5,
     "metadata": {},
     "output_type": "execute_result"
    }
   ],
   "source": [
    "tiger.shape"
   ]
  },
  {
   "cell_type": "code",
   "execution_count": 6,
   "id": "2c025b72",
   "metadata": {},
   "outputs": [],
   "source": [
    "cv2.imshow(\"ritik\",ritik)\n",
    "cv2.imshow(\"tiger\",tiger)\n",
    "cv2.waitKey()\n",
    "cv2.destroyAllWindows()"
   ]
  },
  {
   "cell_type": "code",
   "execution_count": 7,
   "id": "25b17eb5",
   "metadata": {},
   "outputs": [],
   "source": [
    "# crop and swap\n",
    "crop_ritik= ritik[0:170,70:170]\n",
    "tiger[0:170,70:170]= crop_ritik\n",
    "cv2.imshow(\"fj\",tiger)\n",
    "cv2.waitKey()\n",
    "cv2.destroyAllWindows()"
   ]
  },
  {
   "cell_type": "code",
   "execution_count": 8,
   "id": "d9887e67",
   "metadata": {},
   "outputs": [],
   "source": [
    "tiger= cv2.imread(\"download.jfif\")\n",
    "ritik= ritik[0:284,0:177]\n",
    "cv2.imshow(\"ritik\",ritik)\n",
    "cv2.waitKey()\n",
    "cv2.destroyAllWindows()\n",
    "\n",
    "\n"
   ]
  },
  {
   "cell_type": "code",
   "execution_count": 9,
   "id": "dcbfabd1",
   "metadata": {},
   "outputs": [],
   "source": [
    "cv2.imshow(\"ritik\",ritik[:170,55:170])\n",
    "cv2.waitKey()\n",
    "cv2.destroyAllWindows()\n"
   ]
  },
  {
   "cell_type": "code",
   "execution_count": 10,
   "id": "fc819002",
   "metadata": {},
   "outputs": [],
   "source": [
    "crop_tiger= tiger[:170,55:170]\n",
    "ritik[:170,55:170]= crop_tiger\n",
    "cv2.imshow(\"ritik\",ritik)\n",
    "cv2.waitKey()\n",
    "cv2.destroyAllWindows()\n"
   ]
  },
  {
   "cell_type": "code",
   "execution_count": null,
   "id": "eb45628d",
   "metadata": {},
   "outputs": [],
   "source": []
  },
  {
   "cell_type": "code",
   "execution_count": null,
   "id": "0e0a070b",
   "metadata": {},
   "outputs": [],
   "source": []
  },
  {
   "cell_type": "code",
   "execution_count": null,
   "id": "416168a3",
   "metadata": {},
   "outputs": [],
   "source": []
  }
 ],
 "metadata": {
  "kernelspec": {
   "display_name": "Python 3",
   "language": "python",
   "name": "python3"
  },
  "language_info": {
   "codemirror_mode": {
    "name": "ipython",
    "version": 3
   },
   "file_extension": ".py",
   "mimetype": "text/x-python",
   "name": "python",
   "nbconvert_exporter": "python",
   "pygments_lexer": "ipython3",
   "version": "3.8.8"
  }
 },
 "nbformat": 4,
 "nbformat_minor": 5
}
