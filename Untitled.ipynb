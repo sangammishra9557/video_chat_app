{
 "cells": [
  {
   "cell_type": "markdown",
   "id": "baf7a880",
   "metadata": {},
   "source": [
    "TASK 3 CREATE THE IMAGE USING NUMPY ARRAY"
   ]
  },
  {
   "cell_type": "code",
   "execution_count": 1,
   "id": "0ece7af2",
   "metadata": {},
   "outputs": [],
   "source": [
    "import numpy as np, cv2\n",
    "\n",
    "#shocked\n",
    "shocked= np.zeros((500,500,3))\n",
    "# main_circle_face\n",
    "center_coordinates = (250,250)\n",
    "radius = 150\n",
    "color = (0,255,255)\n",
    "thickness = -2\n",
    "photo = cv2.circle(shocked,center_coordinates,radius,color,thickness)\n",
    "\n",
    "#left_eye \n",
    "center_coordinates = (200, 200)  \n",
    "axesLength = (15, 7)\n",
    "angle = 90\n",
    "startAngle = 0\n",
    "endAngle = 360\n",
    "color = (0, 0, 0)\n",
    "thickness = -5\n",
    "image = cv2.ellipse(shocked, center_coordinates, axesLength,\n",
    "           angle, startAngle, endAngle, color, thickness)\n",
    "\n",
    "#Right_eye\n",
    "center_coordinates = (300, 200)  \n",
    "axesLength = (15, 7)\n",
    "angle = 90\n",
    "startAngle = 0\n",
    "endAngle = 360\n",
    "color = (0, 0, 0)\n",
    "thickness = -5\n",
    "image = cv2.ellipse(shocked, center_coordinates, axesLength,\n",
    "           angle, startAngle, endAngle, color, thickness)\n",
    "\n",
    "#shocked\n",
    "center_coordinates = (250,300)\n",
    "radius = 20\n",
    "color = (0,0,0)\n",
    "thickness = -2\n",
    "photo = cv2.circle(shocked,center_coordinates,radius,color,thickness)\n",
    "\n",
    "#left_eye \n",
    "center_coordinates = (200, 200)  \n",
    "axesLength = (15, 7)\n",
    "angle = 90\n",
    "startAngle = 0\n",
    "endAngle = 360\n",
    "color = (0, 0, 0)\n",
    "thickness = -5\n",
    "image = cv2.ellipse(shocked, center_coordinates, axesLength,\n",
    "           angle, startAngle, endAngle, color, thickness)\n",
    "\n",
    "#Right_eye\n",
    "center_coordinates = (300, 200)  \n",
    "axesLength = (15, 7)\n",
    "angle = 90\n",
    "startAngle = 0\n",
    "endAngle = 360\n",
    "color = (0, 0, 0)\n",
    "thickness = -5\n",
    "image = cv2.ellipse(shocked, center_coordinates, axesLength,\n",
    "           angle, startAngle, endAngle, color, thickness)\n",
    "\n",
    "#shocked\n",
    "center_coordinates = (250,300)\n",
    "radius = 20\n",
    "color = (0,0,0)\n",
    "thickness = -2\n",
    "photo = cv2.circle(shocked,center_coordinates,radius,color,thickness)"
   ]
  },
  {
   "cell_type": "code",
   "execution_count": 2,
   "id": "8bcc3e78",
   "metadata": {},
   "outputs": [],
   "source": [
    "\n",
    "#showImage\n",
    "\n",
    "cv2.imshow(\"my photo\",photo)\n",
    "cv2.waitKey()\n",
    "cv2.destroyAllWindows()"
   ]
  },
  {
   "cell_type": "code",
   "execution_count": null,
   "id": "a58c7293",
   "metadata": {},
   "outputs": [],
   "source": []
  },
  {
   "cell_type": "code",
   "execution_count": null,
   "id": "490af628",
   "metadata": {},
   "outputs": [],
   "source": []
  }
 ],
 "metadata": {
  "kernelspec": {
   "display_name": "Python 3",
   "language": "python",
   "name": "python3"
  },
  "language_info": {
   "codemirror_mode": {
    "name": "ipython",
    "version": 3
   },
   "file_extension": ".py",
   "mimetype": "text/x-python",
   "name": "python",
   "nbconvert_exporter": "python",
   "pygments_lexer": "ipython3",
   "version": "3.8.8"
  }
 },
 "nbformat": 4,
 "nbformat_minor": 5
}
