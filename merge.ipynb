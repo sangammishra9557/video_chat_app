{
 "cells": [
  {
   "cell_type": "markdown",
   "id": "8be99932",
   "metadata": {},
   "source": [
    "TASK - 3.2\n",
    "IN THIS TASK WE WILL MERGE THE IMAGE"
   ]
  },
  {
   "cell_type": "code",
   "execution_count": 1,
   "id": "60dcaa08",
   "metadata": {},
   "outputs": [],
   "source": [
    "import cv2,numpy as np"
   ]
  },
  {
   "cell_type": "code",
   "execution_count": 2,
   "id": "7aa10118",
   "metadata": {},
   "outputs": [],
   "source": [
    "ritik = cv2.imread(\"220px-Hrithik_at_Rado_launch.jfif\")"
   ]
  },
  {
   "cell_type": "code",
   "execution_count": 3,
   "id": "46e048ac",
   "metadata": {},
   "outputs": [],
   "source": [
    "tiger = cv2.imread(\"download.jfif\")"
   ]
  },
  {
   "cell_type": "code",
   "execution_count": 4,
   "id": "543f2bcc",
   "metadata": {},
   "outputs": [],
   "source": [
    "ritik=ritik[0:284,:]"
   ]
  },
  {
   "cell_type": "code",
   "execution_count": 5,
   "id": "f3f7e8d2",
   "metadata": {},
   "outputs": [
    {
     "data": {
      "text/plain": [
       "(284, 177, 3)"
      ]
     },
     "execution_count": 5,
     "metadata": {},
     "output_type": "execute_result"
    }
   ],
   "source": [
    "tiger.shape\n"
   ]
  },
  {
   "cell_type": "code",
   "execution_count": 6,
   "id": "29b45ba3",
   "metadata": {},
   "outputs": [
    {
     "data": {
      "text/plain": [
       "(284, 220, 3)"
      ]
     },
     "execution_count": 6,
     "metadata": {},
     "output_type": "execute_result"
    }
   ],
   "source": [
    "ritik.shape"
   ]
  },
  {
   "cell_type": "code",
   "execution_count": null,
   "id": "2b6638a5",
   "metadata": {},
   "outputs": [],
   "source": []
  },
  {
   "cell_type": "code",
   "execution_count": 7,
   "id": "e7ec2c7f",
   "metadata": {},
   "outputs": [],
   "source": [
    "ritik_tiger_ho=np.hstack((ritik,tiger))"
   ]
  },
  {
   "cell_type": "code",
   "execution_count": 8,
   "id": "5f4e767b",
   "metadata": {},
   "outputs": [],
   "source": [
    "\n",
    "# Printing image \n",
    "cv2.imshow(\"HOrizantal-merge\",ritik_tiger_ho)\n",
    "cv2.waitKey()\n",
    "cv2.destroyAllWindows()"
   ]
  },
  {
   "cell_type": "code",
   "execution_count": 9,
   "id": "bcb37c7c",
   "metadata": {},
   "outputs": [],
   "source": [
    "ritik = ritik[:,:177]\n",
    "ritik_tiger_vertical= np.vstack((ritik,tiger))\n"
   ]
  },
  {
   "cell_type": "code",
   "execution_count": 10,
   "id": "c9213b68",
   "metadata": {},
   "outputs": [],
   "source": [
    "\n",
    "# Printing image \n",
    "cv2.imshow(\"vertical-image\",ritik_tiger_vertical)\n",
    "cv2.waitKey()\n",
    "cv2.destroyAllWindows()"
   ]
  },
  {
   "cell_type": "code",
   "execution_count": null,
   "id": "0ca875d9",
   "metadata": {},
   "outputs": [],
   "source": []
  }
 ],
 "metadata": {
  "kernelspec": {
   "display_name": "Python 3",
   "language": "python",
   "name": "python3"
  },
  "language_info": {
   "codemirror_mode": {
    "name": "ipython",
    "version": 3
   },
   "file_extension": ".py",
   "mimetype": "text/x-python",
   "name": "python",
   "nbconvert_exporter": "python",
   "pygments_lexer": "ipython3",
   "version": "3.8.8"
  }
 },
 "nbformat": 4,
 "nbformat_minor": 5
}
